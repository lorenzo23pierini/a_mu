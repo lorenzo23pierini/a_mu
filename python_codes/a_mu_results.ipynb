{
 "cells": [
  {
   "cell_type": "code",
   "execution_count": 5,
   "id": "0fe37b58",
   "metadata": {},
   "outputs": [],
   "source": [
    "from funct_for_a_mu import *\n",
    "from alpha_s_lorenzo import *\n",
    "import csv"
   ]
  },
  {
   "cell_type": "code",
   "execution_count": 6,
   "id": "c28633c3",
   "metadata": {},
   "outputs": [],
   "source": [
    "header = ['notation', 'value, GeV']\n",
    "with open('quark_mass.csv', 'w', newline='') as file:\n",
    "    writer = csv.writer(file)\n",
    "    writer.writerow(header)\n",
    "    for key, value in quark_mass().items():\n",
    "        writer.writerow([key, value])"
   ]
  },
  {
   "cell_type": "code",
   "execution_count": 7,
   "id": "643c52dd",
   "metadata": {},
   "outputs": [],
   "source": [
    "# alpha_0_order: funct_alpha_0\n",
    "# hat_K: funct_hat_k integral presentation\n",
    "amu_50_inf_005 = amu_s1_s2('quad', 50., inf, lambda1=0.05)\n",
    "amu_50_inf_01 = amu_s1_s2('quad', 50., inf, lambda1=0.1)\n",
    "amu_50_inf_02 = amu_s1_s2('quad', 50., inf, lambda1=0.2)\n",
    "amu_50_inf_03 = amu_s1_s2('quad', 50., inf, lambda1=0.3)\n",
    "amu_50_inf_04 = amu_s1_s2('quad', 50., inf, lambda1=0.4)\n",
    "amu_50_inf_05 = amu_s1_s2('quad', 50., inf, lambda1=0.5)\n",
    "\n",
    "amu_5_50_005 = amu_s1_s2('quad', 5., 50, lambda1=0.05)\n",
    "amu_5_50_01 = amu_s1_s2('quad', 5., 50., lambda1=0.1)\n",
    "amu_5_50_02 = amu_s1_s2('quad', 5., 50., lambda1=0.2)\n",
    "amu_5_50_03 = amu_s1_s2('quad', 5., 50., lambda1=0.3)\n",
    "amu_5_50_04 = amu_s1_s2('quad', 5., 50., lambda1=0.4)\n",
    "amu_5_50_05 = amu_s1_s2('quad', 5., 50., lambda1=0.5)"
   ]
  },
  {
   "cell_type": "code",
   "execution_count": 8,
   "id": "d7d243cb",
   "metadata": {},
   "outputs": [],
   "source": [
    "# alpha_0_order: funct_alpha_0\n",
    "# hat_K: funct_hat_k integral presentation\n",
    "amu_1_5_005 = amu_s1_s2('quad', 1., 5., lambda1=0.05)\n",
    "amu_1_5_01 = amu_s1_s2('quad', 1., 5., lambda1=0.1)\n",
    "amu_1_5_02 = amu_s1_s2('quad', 1., 5., lambda1=0.2)\n",
    "amu_1_5_03 = amu_s1_s2('quad', 1., 5., lambda1=0.3)\n",
    "amu_1_5_04 = amu_s1_s2('quad', 1., 5., lambda1=0.4)\n",
    "amu_1_5_05 = amu_s1_s2('quad', 1., 5., lambda1=0.5)"
   ]
  },
  {
   "cell_type": "code",
   "execution_count": 9,
   "id": "b2e8e37f",
   "metadata": {},
   "outputs": [],
   "source": [
    "# alpha_0_order: funct_alpha_0\n",
    "# hat_K: funct_hat_k integral presentation\n",
    "amu_0_1_005 = amu_s1_s2('quad', 0., 1., lambda1=0.05)\n",
    "amu_0_1_01 = amu_s1_s2('quad', 0., 1., lambda1=0.1)\n",
    "amu_0_1_02 = amu_s1_s2('quad', 0., 1., lambda1=0.2)\n",
    "amu_0_1_03 = amu_s1_s2('quad', 0., 1., lambda1=0.3)\n",
    "amu_0_1_04 = amu_s1_s2('quad', 0., 1., lambda1=0.4)\n",
    "amu_0_1_05 = amu_s1_s2('quad', 0., 1., lambda1=0.5)"
   ]
  },
  {
   "cell_type": "code",
   "execution_count": 10,
   "id": "11730d05",
   "metadata": {},
   "outputs": [],
   "source": [
    "def a_mu_sum_region(a_mu_region: list, err_a_mu_region: list):\n",
    "    err_squar_list = [x**2 for x in err_a_mu_region]\n",
    "    return sum(a_mu_region), sqrt(sum(err_squar_list))"
   ]
  },
  {
   "cell_type": "code",
   "execution_count": 11,
   "id": "76562ad0",
   "metadata": {},
   "outputs": [
    {
     "name": "stdout",
     "output_type": "stream",
     "text": [
      "(8.584384522409894e-08, 1.7949648401968447e-12) \n",
      " (9.849105015457659e-08, 1.849764840155397e-12) \n",
      " (1.1652435121286698e-07, 1.9133086291160124e-12) \n",
      " (1.2987175113374588e-07, 2.232873079447312e-12) \n",
      " (1.404801242813742e-07, 2.270770189099896e-12) \n",
      " (1.4922389702787732e-07, 2.4870586980491617e-12)\n"
     ]
    }
   ],
   "source": [
    "a_mu_region_lambda_01 = [amu_0_1_01[0], amu_1_5_01[0], amu_5_50_01[0], amu_50_inf_01[0]]\n",
    "err_a_mu_region_lambda_01 = [amu_0_1_01[1], amu_1_5_01[1], amu_5_50_01[1], amu_50_inf_01[1]]\n",
    "\n",
    "a_mu_region_lambda_005 = [amu_0_1_005[0], amu_1_5_005[0], amu_5_50_005[0], amu_50_inf_005[0]]\n",
    "err_a_mu_region_lambda_005 = [amu_0_1_005[1], amu_1_5_005[1], amu_5_50_005[1], amu_50_inf_005[1]]\n",
    "\n",
    "a_mu_region_lambda_02 = [amu_0_1_02[0], amu_1_5_02[0], amu_5_50_02[0], amu_50_inf_02[0]]\n",
    "err_a_mu_region_lambda_02 = [amu_0_1_02[1], amu_1_5_02[1], amu_5_50_02[1], amu_50_inf_02[1]]\n",
    "\n",
    "a_mu_region_lambda_03 = [amu_0_1_03[0], amu_1_5_03[0], amu_5_50_03[0], amu_50_inf_03[0]]\n",
    "err_a_mu_region_lambda_03 = [amu_0_1_03[1], amu_1_5_03[1], amu_5_50_03[1], amu_50_inf_03[1]]\n",
    "\n",
    "a_mu_region_lambda_04 = [amu_0_1_04[0], amu_1_5_04[0], amu_5_50_04[0], amu_50_inf_04[0]]\n",
    "err_a_mu_region_lambda_04 = [amu_0_1_04[1], amu_1_5_04[1], amu_5_50_04[1], amu_50_inf_04[1]]\n",
    "\n",
    "a_mu_region_lambda_05 = [amu_0_1_05[0], amu_1_5_05[0], amu_5_50_05[0], amu_50_inf_05[0]]\n",
    "err_a_mu_region_lambda_05 = [amu_0_1_05[1], amu_1_5_05[1], amu_5_50_05[1], amu_50_inf_05[1]]\n",
    "\n",
    "print(a_mu_sum_region(a_mu_region_lambda_005, err_a_mu_region_lambda_005), '\\n',\n",
    "      a_mu_sum_region(a_mu_region_lambda_01, err_a_mu_region_lambda_01), '\\n', \n",
    "      a_mu_sum_region(a_mu_region_lambda_02, err_a_mu_region_lambda_02), '\\n',\n",
    "      a_mu_sum_region(a_mu_region_lambda_03, err_a_mu_region_lambda_03), '\\n',\n",
    "      a_mu_sum_region(a_mu_region_lambda_04, err_a_mu_region_lambda_04), '\\n',\n",
    "      a_mu_sum_region(a_mu_region_lambda_05, err_a_mu_region_lambda_05))"
   ]
  },
  {
   "cell_type": "code",
   "execution_count": 12,
   "id": "be9098f1",
   "metadata": {},
   "outputs": [],
   "source": [
    "a_mu = {'a_mu_50': {'0.05': amu_50_inf_005, '0.1': amu_50_inf_01, \n",
    "                    '0.2': amu_50_inf_02, '0.3': amu_50_inf_03, '0.4': amu_50_inf_04, '0.5': amu_50_inf_05},\n",
    "       'a_mu_5_50': {'0.05': amu_5_50_005, '0.1': amu_5_50_01, \n",
    "                    '0.2': amu_5_50_02, '0.3': amu_5_50_03, '0.4': amu_5_50_04, '0.5': amu_5_50_05}, \n",
    "        'a_mu_1_5': {'0.05': amu_1_5_005, '0.1': amu_1_5_01, \n",
    "                    '0.2': amu_1_5_02, '0.3': amu_1_5_03, '0.4': amu_1_5_04, '0.5': amu_1_5_05}, \n",
    "        'a_mu_thr_1': {'0.05': amu_0_1_005, '0.1': amu_0_1_01, \n",
    "                    '0.2': amu_0_1_02, '0.3': amu_0_1_03, '0.4': amu_0_1_04, '0.5': amu_0_1_05}}"
   ]
  },
  {
   "cell_type": "code",
   "execution_count": 13,
   "id": "26d0cc88",
   "metadata": {},
   "outputs": [],
   "source": [
    "header = ['region, GeV', 'lambda=0.05', 'lambda=0.1', 'lambda=0.2', 'lambda=0.3', 'lambda=0.4', 'lambda=0.5']\n",
    "with open('a_mu_alpha_0.csv', 'w', newline='') as file:\n",
    "    writer = csv.writer(file)\n",
    "    writer.writerow(header)\n",
    "    #for key, value in a_mu.items():\n",
    "    #    writer.writerow([key, value])\n",
    "    writer.writerow(['50-inf', a_mu['a_mu_50']['0.05'], a_mu['a_mu_50']['0.1'], a_mu['a_mu_50']['0.2'], \n",
    "                    a_mu['a_mu_50']['0.3'], a_mu['a_mu_50']['0.4'], a_mu['a_mu_50']['0.5']])\n",
    "    writer.writerow(['5-50', a_mu['a_mu_5_50']['0.05'], a_mu['a_mu_5_50']['0.1'], a_mu['a_mu_5_50']['0.2'], \n",
    "                    a_mu['a_mu_5_50']['0.3'], a_mu['a_mu_5_50']['0.4'], a_mu['a_mu_5_50']['0.5']])\n",
    "    writer.writerow(['1-5', a_mu['a_mu_1_5']['0.05'], a_mu['a_mu_1_5']['0.1'], a_mu['a_mu_1_5']['0.2'], \n",
    "                    a_mu['a_mu_1_5']['0.3'], a_mu['a_mu_1_5']['0.4'], a_mu['a_mu_1_5']['0.5']])\n",
    "    writer.writerow(['thr-1', a_mu['a_mu_thr_1']['0.05'], a_mu['a_mu_thr_1']['0.1'], a_mu['a_mu_thr_1']['0.2'], \n",
    "                    a_mu['a_mu_thr_1']['0.3'], a_mu['a_mu_thr_1']['0.4'], a_mu['a_mu_thr_1']['0.5']])\n",
    "    writer.writerow(['total:', a_mu_sum_region(a_mu_region_lambda_005, err_a_mu_region_lambda_005)[0],\n",
    "                     a_mu_sum_region(a_mu_region_lambda_01, err_a_mu_region_lambda_01)[0],\n",
    "                     a_mu_sum_region(a_mu_region_lambda_02, err_a_mu_region_lambda_02)[0], \n",
    "                     a_mu_sum_region(a_mu_region_lambda_03, err_a_mu_region_lambda_03)[0],\n",
    "                    a_mu_sum_region(a_mu_region_lambda_04, err_a_mu_region_lambda_04)[0], \n",
    "                     a_mu_sum_region(a_mu_region_lambda_05, err_a_mu_region_lambda_05)[0]])"
   ]
  },
  {
   "cell_type": "code",
   "execution_count": 14,
   "id": "12369193",
   "metadata": {},
   "outputs": [],
   "source": [
    "# alpha_1_order: funct_alpha_1\n",
    "# hat_K: funct_hat_k integral presentation\n",
    "amu_50_inf_005_alpha1 = amu_s1_s2('quad', 50., inf, lambda1=0.05, alpha_order=1)\n",
    "amu_50_inf_01_alpha1 = amu_s1_s2('quad', 50., inf, lambda1=0.1, alpha_order=1)\n",
    "amu_50_inf_02_alpha1 = amu_s1_s2('quad', 50., inf, lambda1=0.2, alpha_order=1)\n",
    "amu_50_inf_03_alpha1 = amu_s1_s2('quad', 50., inf, lambda1=0.3, alpha_order=1)\n",
    "amu_50_inf_04_alpha1 = amu_s1_s2('quad', 50., inf, lambda1=0.4, alpha_order=1)\n",
    "amu_50_inf_05_alpha1 = amu_s1_s2('quad', 50., inf, lambda1=0.5, alpha_order=1)\n",
    "\n",
    "amu_5_50_005_alpha1 = amu_s1_s2('quad', 5., 50, lambda1=0.05, alpha_order=1)\n",
    "amu_5_50_01_alpha1 = amu_s1_s2('quad', 5., 50., lambda1=0.1, alpha_order=1)\n",
    "amu_5_50_02_alpha1 = amu_s1_s2('quad', 5., 50., lambda1=0.2, alpha_order=1)\n",
    "amu_5_50_03_alpha1 = amu_s1_s2('quad', 5., 50., lambda1=0.3, alpha_order=1)\n",
    "amu_5_50_04_alpha1 = amu_s1_s2('quad', 5., 50., lambda1=0.4, alpha_order=1)\n",
    "amu_5_50_05_alpha1 = amu_s1_s2('quad', 5., 50., lambda1=0.5, alpha_order=1)\n",
    "\n",
    "amu_1_5_005_alpha1 = amu_s1_s2('quad', 1., 5., lambda1=0.05, alpha_order=1)\n",
    "amu_1_5_01_alpha1 = amu_s1_s2('quad', 1., 5., lambda1=0.1, alpha_order=1)\n",
    "amu_1_5_02_alpha1 = amu_s1_s2('quad', 1., 5., lambda1=0.2, alpha_order=1)\n",
    "amu_1_5_03_alpha1 = amu_s1_s2('quad', 1., 5., lambda1=0.3, alpha_order=1)\n",
    "amu_1_5_04_alpha1 = amu_s1_s2('quad', 1., 5., lambda1=0.4, alpha_order=1)\n",
    "amu_1_5_05_alpha1 = amu_s1_s2('quad', 1., 5., lambda1=0.5, alpha_order=1)\n",
    "\n",
    "amu_0_1_005_alpha1 = amu_s1_s2('quad', 0., 1., lambda1=0.05, alpha_order=1)\n",
    "amu_0_1_01_alpha1 = amu_s1_s2('quad', 0., 1., lambda1=0.1, alpha_order=1)\n",
    "amu_0_1_02_alpha1 = amu_s1_s2('quad', 0., 1., lambda1=0.2, alpha_order=1)\n",
    "amu_0_1_03_alpha1 = amu_s1_s2('quad', 0., 1., lambda1=0.3, alpha_order=1)\n",
    "amu_0_1_04_alpha1 = amu_s1_s2('quad', 0., 1., lambda1=0.4, alpha_order=1)\n",
    "amu_0_1_05_alpha1 = amu_s1_s2('quad', 0., 1., lambda1=0.5, alpha_order=1)"
   ]
  },
  {
   "cell_type": "code",
   "execution_count": 15,
   "id": "a38c2975",
   "metadata": {},
   "outputs": [
    {
     "name": "stdout",
     "output_type": "stream",
     "text": [
      "(8.258856504452481e-08, 1.6932237434179194e-12) \n",
      " (9.368959162803368e-08, 1.734432634697976e-12) \n",
      " (1.1063438778113058e-07, 2.213986775747189e-12) \n",
      " (1.2437801839940167e-07, 2.0887376728952047e-12) \n",
      " (1.360379470042779e-07, 2.1250360808288915e-12) \n",
      " (1.4604763343509264e-07, 2.340881175232581e-12)\n"
     ]
    }
   ],
   "source": [
    "a_mu_region_lambda_01_1 = [amu_0_1_01_alpha1[0], amu_1_5_01_alpha1[0], amu_5_50_01_alpha1[0], amu_50_inf_01_alpha1[0]]\n",
    "err_a_mu_region_lambda_01_1 = [amu_0_1_01_alpha1[1], amu_1_5_01_alpha1[1], amu_5_50_01_alpha1[1], amu_50_inf_01_alpha1[1]]\n",
    "\n",
    "a_mu_region_lambda_005_1 = [amu_0_1_005_alpha1[0], amu_1_5_005_alpha1[0], amu_5_50_005_alpha1[0], amu_50_inf_005_alpha1[0]]\n",
    "err_a_mu_region_lambda_005_1 = [amu_0_1_005_alpha1[1], amu_1_5_005_alpha1[1], amu_5_50_005_alpha1[1], amu_50_inf_005_alpha1[1]]\n",
    "\n",
    "a_mu_region_lambda_02_1 = [amu_0_1_02_alpha1[0], amu_1_5_02_alpha1[0], amu_5_50_02_alpha1[0], amu_50_inf_02_alpha1[0]]\n",
    "err_a_mu_region_lambda_02_1 = [amu_0_1_02_alpha1[1], amu_1_5_02_alpha1[1], amu_5_50_02_alpha1[1], amu_50_inf_02_alpha1[1]]\n",
    "\n",
    "a_mu_region_lambda_03_1 = [amu_0_1_03_alpha1[0], amu_1_5_03_alpha1[0], amu_5_50_03_alpha1[0], amu_50_inf_03_alpha1[0]]\n",
    "err_a_mu_region_lambda_03_1 = [amu_0_1_03_alpha1[1], amu_1_5_03_alpha1[1], amu_5_50_03_alpha1[1], amu_50_inf_03_alpha1[1]]\n",
    "\n",
    "a_mu_region_lambda_04_1 = [amu_0_1_04_alpha1[0], amu_1_5_04_alpha1[0], amu_5_50_04_alpha1[0], amu_50_inf_04_alpha1[0]]\n",
    "err_a_mu_region_lambda_04_1 = [amu_0_1_04_alpha1[1], amu_1_5_04_alpha1[1], amu_5_50_04_alpha1[1], amu_50_inf_04_alpha1[1]]\n",
    "\n",
    "a_mu_region_lambda_05_1 = [amu_0_1_05_alpha1[0], amu_1_5_05_alpha1[0], amu_5_50_05_alpha1[0], amu_50_inf_05_alpha1[0]]\n",
    "err_a_mu_region_lambda_05_1 = [amu_0_1_05_alpha1[1], amu_1_5_05_alpha1[1], amu_5_50_05_alpha1[1], amu_50_inf_05_alpha1[1]]\n",
    "\n",
    "print(a_mu_sum_region(a_mu_region_lambda_005_1, err_a_mu_region_lambda_005_1), '\\n',\n",
    "      a_mu_sum_region(a_mu_region_lambda_01_1, err_a_mu_region_lambda_01_1), '\\n', \n",
    "      a_mu_sum_region(a_mu_region_lambda_02_1, err_a_mu_region_lambda_02_1), '\\n',\n",
    "      a_mu_sum_region(a_mu_region_lambda_03_1, err_a_mu_region_lambda_03_1), '\\n',\n",
    "      a_mu_sum_region(a_mu_region_lambda_04_1, err_a_mu_region_lambda_04_1), '\\n',\n",
    "      a_mu_sum_region(a_mu_region_lambda_05_1, err_a_mu_region_lambda_05_1))"
   ]
  },
  {
   "cell_type": "code",
   "execution_count": 16,
   "id": "94090708",
   "metadata": {},
   "outputs": [],
   "source": [
    "\n",
    "a_mu_alpha1 = {'a_mu_50': {'0.05': amu_50_inf_005_alpha1, '0.1': amu_50_inf_01_alpha1, \n",
    "                    '0.2': amu_50_inf_02_alpha1, '0.3': amu_50_inf_03_alpha1, '0.4': amu_50_inf_04_alpha1, \n",
    "                           '0.5': amu_50_inf_05_alpha1},\n",
    "       'a_mu_5_50': {'0.05': amu_5_50_005_alpha1, '0.1': amu_5_50_01_alpha1, \n",
    "                    '0.2': amu_5_50_02_alpha1, '0.3': amu_5_50_03_alpha1, '0.4': amu_5_50_04_alpha1, \n",
    "                     '0.5': amu_5_50_05_alpha1}, \n",
    "        'a_mu_1_5': {'0.05': amu_1_5_005_alpha1, '0.1': amu_1_5_01_alpha1, \n",
    "                    '0.2': amu_1_5_02_alpha1, '0.3': amu_1_5_03_alpha1, '0.4': amu_1_5_04_alpha1, \n",
    "                     '0.5': amu_1_5_05_alpha1}, \n",
    "        'a_mu_thr_1': {'0.05': amu_0_1_005_alpha1, '0.1': amu_0_1_01_alpha1, \n",
    "                    '0.2': amu_0_1_02_alpha1, '0.3': amu_0_1_03_alpha1, '0.4': amu_0_1_04_alpha1, \n",
    "                       '0.5': amu_0_1_05_alpha1}}"
   ]
  },
  {
   "cell_type": "code",
   "execution_count": 17,
   "id": "c3ffaf6b",
   "metadata": {},
   "outputs": [],
   "source": [
    "header = ['region, GeV', 'lambda=0.05', 'lambda=0.1', 'lambda=0.2', 'lambda=0.3', 'lambda=0.4', 'lambda=0.5']\n",
    "with open('a_mu_alpha_1.csv', 'w', newline='') as file:\n",
    "    writer = csv.writer(file)\n",
    "    writer.writerow(header)\n",
    "    #for key, value in a_mu.items():\n",
    "    #    writer.writerow([key, value])\n",
    "    writer.writerow(['50-inf', a_mu_alpha1['a_mu_50']['0.05'], a_mu_alpha1['a_mu_50']['0.1'], a_mu_alpha1['a_mu_50']['0.2'], \n",
    "                    a_mu_alpha1['a_mu_50']['0.3'], a_mu_alpha1['a_mu_50']['0.4'], a_mu_alpha1['a_mu_50']['0.5']])\n",
    "    writer.writerow(['5-50', a_mu_alpha1['a_mu_5_50']['0.05'], a_mu_alpha1['a_mu_5_50']['0.1'], a_mu_alpha1['a_mu_5_50']['0.2'], \n",
    "                    a_mu_alpha1['a_mu_5_50']['0.3'], a_mu_alpha1['a_mu_5_50']['0.4'], a_mu_alpha1['a_mu_5_50']['0.5']])\n",
    "    writer.writerow(['1-5', a_mu_alpha1['a_mu_1_5']['0.05'], a_mu_alpha1['a_mu_1_5']['0.1'], a_mu_alpha1['a_mu_1_5']['0.2'], \n",
    "                    a_mu_alpha1['a_mu_1_5']['0.3'], a_mu_alpha1['a_mu_1_5']['0.4'], a_mu_alpha1['a_mu_1_5']['0.5']])\n",
    "    writer.writerow(['thr-1', a_mu_alpha1['a_mu_thr_1']['0.05'], a_mu_alpha1['a_mu_thr_1']['0.1'], a_mu_alpha1['a_mu_thr_1']['0.2'], \n",
    "                    a_mu_alpha1['a_mu_thr_1']['0.3'], a_mu_alpha1['a_mu_thr_1']['0.4'], a_mu_alpha1['a_mu_thr_1']['0.5']])\n",
    "    writer.writerow(['total:', a_mu_sum_region(a_mu_region_lambda_005_1, err_a_mu_region_lambda_005_1)[0],\n",
    "                     a_mu_sum_region(a_mu_region_lambda_01_1, err_a_mu_region_lambda_01_1)[0],\n",
    "                     a_mu_sum_region(a_mu_region_lambda_02_1, err_a_mu_region_lambda_02_1)[0], \n",
    "                     a_mu_sum_region(a_mu_region_lambda_03_1, err_a_mu_region_lambda_03_1)[0],\n",
    "                    a_mu_sum_region(a_mu_region_lambda_04_1, err_a_mu_region_lambda_04_1)[0], \n",
    "                     a_mu_sum_region(a_mu_region_lambda_05_1, err_a_mu_region_lambda_05_1)[0]])"
   ]
  },
  {
   "cell_type": "code",
   "execution_count": 18,
   "id": "81bf427c",
   "metadata": {},
   "outputs": [
    {
     "name": "stdout",
     "output_type": "stream",
     "text": [
      "*** K_hat analytical ****\n",
      "50 0.9957701125384922\n",
      "77.44000000000001 0.9971708157773215\n",
      "121104.0 1.0\n",
      "\n",
      "*** K_hat as integral ****\n",
      "50 0.9826567169127328\n",
      "77.44000000000001 0.9839410687415727\n",
      "121104.0 0.9867973075114839\n",
      "1e+16 0.9867973075114839\n",
      "1e+203 0.9867988246129554\n"
     ]
    }
   ],
   "source": [
    "m_b = quark_mass()['m_b']\n",
    "m_t = quark_mass()['m_t']\n",
    "print('*** K_hat analytical ****')\n",
    "print('50', funct_hat_k_analyt(50., s_limit_1=inf))\n",
    "print(4.*m_b**2, funct_hat_k_analyt(4.*m_b**2))\n",
    "print(4.*m_t**2, funct_hat_k_analyt(4.*m_t**2))\n",
    "print('\\n*** K_hat as integral ****')\n",
    "print('50', funct_hat_k(50.))\n",
    "print(4.*m_b**2, funct_hat_k(4.*m_b**2))\n",
    "print(4.*m_t**2, funct_hat_k(4.*m_t**2))\n",
    "print(1e16, funct_hat_k(4.*m_t**2))\n",
    "print(1.e+203, funct_hat_k(1.e+203))"
   ]
  },
  {
   "cell_type": "code",
   "execution_count": 19,
   "id": "e83b9ae0",
   "metadata": {},
   "outputs": [
    {
     "name": "stdout",
     "output_type": "stream",
     "text": [
      "(7.413837672210877e-10, 9.183538362377892e-13)\n",
      "(7.413837672210877e-10, 9.183538362380554e-13)\n",
      "***\n",
      "(7.378972351919433e-10, 7.535742351481082e-13)\n",
      "(7.410821282813358e-10, 3.710633424717478e-13)\n",
      "(-2.413421468819211e-14, 2.910151066127179e-13)\n",
      "(9.97937198659672e-15, 1.8923984108160926e-14)\n"
     ]
    },
    {
     "name": "stderr",
     "output_type": "stream",
     "text": [
      "c:\\Users\\loren\\OneDrive\\Desktop\\Ferrara\\es_py\\funct_for_a_mu.py:258: IntegrationWarning: The integral is probably divergent, or slowly convergent.\n",
      "  int1 = quad(expr, s1, s2, limit=500, epsabs=1.5e-12, epsrel=1.5e-12)\n"
     ]
    }
   ],
   "source": [
    "print(amu_s1_s2_quark_total('quad', 50., inf))\n",
    "print(amu_s1_s2('quad', 50., inf))\n",
    "print('***')\n",
    "print(amu_s1_s2('quad', 50., 1e4))\n",
    "print(amu_s1_s2('quad', 50., 1e5))\n",
    "print(amu_s1_s2('quad', 50., 1e8))\n",
    "print(amu_s1_s2('quad', 50., 1e10))"
   ]
  },
  {
   "cell_type": "code",
   "execution_count": 20,
   "id": "b6755bcb",
   "metadata": {},
   "outputs": [
    {
     "name": "stdout",
     "output_type": "stream",
     "text": [
      "***\n",
      "7.33978554289679e-10\n",
      "7.42000005504836e-10\n"
     ]
    },
    {
     "ename": "KeyboardInterrupt",
     "evalue": "",
     "output_type": "error",
     "traceback": [
      "\u001b[1;31m---------------------------------------------------------------------------\u001b[0m",
      "\u001b[1;31mKeyboardInterrupt\u001b[0m                         Traceback (most recent call last)",
      "Cell \u001b[1;32mIn[20], line 4\u001b[0m\n\u001b[0;32m      2\u001b[0m \u001b[38;5;28mprint\u001b[39m(amu_s1_s2(\u001b[38;5;124m'\u001b[39m\u001b[38;5;124mromberg\u001b[39m\u001b[38;5;124m'\u001b[39m, \u001b[38;5;241m50.\u001b[39m, \u001b[38;5;241m1e4\u001b[39m))\n\u001b[0;32m      3\u001b[0m \u001b[38;5;28mprint\u001b[39m(amu_s1_s2(\u001b[38;5;124m'\u001b[39m\u001b[38;5;124mromberg\u001b[39m\u001b[38;5;124m'\u001b[39m, \u001b[38;5;241m50.\u001b[39m, \u001b[38;5;241m1e5\u001b[39m))\n\u001b[1;32m----> 4\u001b[0m \u001b[38;5;28mprint\u001b[39m(\u001b[43mamu_s1_s2\u001b[49m\u001b[43m(\u001b[49m\u001b[38;5;124;43m'\u001b[39;49m\u001b[38;5;124;43mromberg\u001b[39;49m\u001b[38;5;124;43m'\u001b[39;49m\u001b[43m,\u001b[49m\u001b[43m \u001b[49m\u001b[38;5;241;43m50.\u001b[39;49m\u001b[43m,\u001b[49m\u001b[43m \u001b[49m\u001b[38;5;241;43m1e7\u001b[39;49m\u001b[43m)\u001b[49m)\n\u001b[0;32m      5\u001b[0m \u001b[38;5;66;03m#print(amu_s1_s2('romberg', 50., 1e10))\u001b[39;00m\n",
      "File \u001b[1;32mc:\\Users\\loren\\OneDrive\\Desktop\\Ferrara\\es_py\\funct_for_a_mu.py:260\u001b[0m, in \u001b[0;36mamu_s1_s2\u001b[1;34m(method, s1, s2, s_limit_1, alpha_order, lambda1, fixed_3, nf_low_3, a, integral)\u001b[0m\n\u001b[0;32m    258\u001b[0m     int1 \u001b[38;5;241m=\u001b[39m quad(expr, s1, s2, limit\u001b[38;5;241m=\u001b[39m\u001b[38;5;241m500\u001b[39m, epsabs\u001b[38;5;241m=\u001b[39m\u001b[38;5;241m1.5e-12\u001b[39m, epsrel\u001b[38;5;241m=\u001b[39m\u001b[38;5;241m1.5e-12\u001b[39m)\n\u001b[0;32m    259\u001b[0m \u001b[38;5;28;01melif\u001b[39;00m method \u001b[38;5;241m==\u001b[39m \u001b[38;5;124m'\u001b[39m\u001b[38;5;124mromberg\u001b[39m\u001b[38;5;124m'\u001b[39m:\n\u001b[1;32m--> 260\u001b[0m     int1 \u001b[38;5;241m=\u001b[39m \u001b[43mromberg\u001b[49m\u001b[43m(\u001b[49m\u001b[43mexpr\u001b[49m\u001b[43m,\u001b[49m\u001b[43m \u001b[49m\u001b[43ms1\u001b[49m\u001b[43m,\u001b[49m\u001b[43m \u001b[49m\u001b[43ms2\u001b[49m\u001b[43m,\u001b[49m\u001b[43m \u001b[49m\u001b[43mtol\u001b[49m\u001b[38;5;241;43m=\u001b[39;49m\u001b[38;5;241;43m1.48e-12\u001b[39;49m\u001b[43m,\u001b[49m\u001b[43m \u001b[49m\u001b[43mrtol\u001b[49m\u001b[38;5;241;43m=\u001b[39;49m\u001b[38;5;241;43m1.48e-12\u001b[39;49m\u001b[43m,\u001b[49m\u001b[43m \u001b[49m\u001b[43mdivmax\u001b[49m\u001b[38;5;241;43m=\u001b[39;49m\u001b[38;5;241;43m50\u001b[39;49m\u001b[43m)\u001b[49m\n\u001b[0;32m    261\u001b[0m \u001b[38;5;28;01melse\u001b[39;00m:\n\u001b[0;32m    262\u001b[0m     \u001b[38;5;28;01mraise\u001b[39;00m \u001b[38;5;167;01mValueError\u001b[39;00m(\u001b[38;5;124m'\u001b[39m\u001b[38;5;124mWrong integral method\u001b[39m\u001b[38;5;124m'\u001b[39m)\n",
      "File \u001b[1;32mc:\\Users\\loren\\OneDrive\\Desktop\\Ferrara\\es_py\\virtualenv\\Lib\\site-packages\\scipy\\_lib\\deprecation.py:91\u001b[0m, in \u001b[0;36m_deprecated.<locals>.wrap.<locals>.call\u001b[1;34m(*args, **kwargs)\u001b[0m\n\u001b[0;32m     87\u001b[0m \u001b[38;5;129m@functools\u001b[39m\u001b[38;5;241m.\u001b[39mwraps(fun)\n\u001b[0;32m     88\u001b[0m \u001b[38;5;28;01mdef\u001b[39;00m \u001b[38;5;21mcall\u001b[39m(\u001b[38;5;241m*\u001b[39margs, \u001b[38;5;241m*\u001b[39m\u001b[38;5;241m*\u001b[39mkwargs):\n\u001b[0;32m     89\u001b[0m     warnings\u001b[38;5;241m.\u001b[39mwarn(msg, category\u001b[38;5;241m=\u001b[39m\u001b[38;5;167;01mDeprecationWarning\u001b[39;00m,\n\u001b[0;32m     90\u001b[0m                   stacklevel\u001b[38;5;241m=\u001b[39mstacklevel)\n\u001b[1;32m---> 91\u001b[0m     \u001b[38;5;28;01mreturn\u001b[39;00m \u001b[43mfun\u001b[49m\u001b[43m(\u001b[49m\u001b[38;5;241;43m*\u001b[39;49m\u001b[43margs\u001b[49m\u001b[43m,\u001b[49m\u001b[43m \u001b[49m\u001b[38;5;241;43m*\u001b[39;49m\u001b[38;5;241;43m*\u001b[39;49m\u001b[43mkwargs\u001b[49m\u001b[43m)\u001b[49m\n",
      "File \u001b[1;32mc:\\Users\\loren\\OneDrive\\Desktop\\Ferrara\\es_py\\virtualenv\\Lib\\site-packages\\scipy\\integrate\\_quadrature.py:1382\u001b[0m, in \u001b[0;36mromberg\u001b[1;34m(function, a, b, args, tol, rtol, show, divmax, vec_func)\u001b[0m\n\u001b[0;32m   1380\u001b[0m \u001b[38;5;28;01mfor\u001b[39;00m i \u001b[38;5;129;01min\u001b[39;00m \u001b[38;5;28mrange\u001b[39m(\u001b[38;5;241m1\u001b[39m, divmax\u001b[38;5;241m+\u001b[39m\u001b[38;5;241m1\u001b[39m):\n\u001b[0;32m   1381\u001b[0m     n \u001b[38;5;241m*\u001b[39m\u001b[38;5;241m=\u001b[39m \u001b[38;5;241m2\u001b[39m\n\u001b[1;32m-> 1382\u001b[0m     ordsum \u001b[38;5;241m+\u001b[39m\u001b[38;5;241m=\u001b[39m \u001b[43m_difftrap\u001b[49m\u001b[43m(\u001b[49m\u001b[43mvfunc\u001b[49m\u001b[43m,\u001b[49m\u001b[43m \u001b[49m\u001b[43minterval\u001b[49m\u001b[43m,\u001b[49m\u001b[43m \u001b[49m\u001b[43mn\u001b[49m\u001b[43m)\u001b[49m\n\u001b[0;32m   1383\u001b[0m     row \u001b[38;5;241m=\u001b[39m [intrange \u001b[38;5;241m*\u001b[39m ordsum \u001b[38;5;241m/\u001b[39m n]\n\u001b[0;32m   1384\u001b[0m     \u001b[38;5;28;01mfor\u001b[39;00m k \u001b[38;5;129;01min\u001b[39;00m \u001b[38;5;28mrange\u001b[39m(i):\n",
      "File \u001b[1;32mc:\\Users\\loren\\OneDrive\\Desktop\\Ferrara\\es_py\\virtualenv\\Lib\\site-packages\\scipy\\integrate\\_quadrature.py:1245\u001b[0m, in \u001b[0;36m_difftrap\u001b[1;34m(function, interval, numtraps)\u001b[0m\n\u001b[0;32m   1243\u001b[0m lox \u001b[38;5;241m=\u001b[39m interval[\u001b[38;5;241m0\u001b[39m] \u001b[38;5;241m+\u001b[39m \u001b[38;5;241m0.5\u001b[39m \u001b[38;5;241m*\u001b[39m h\n\u001b[0;32m   1244\u001b[0m points \u001b[38;5;241m=\u001b[39m lox \u001b[38;5;241m+\u001b[39m h \u001b[38;5;241m*\u001b[39m np\u001b[38;5;241m.\u001b[39marange(numtosum)\n\u001b[1;32m-> 1245\u001b[0m s \u001b[38;5;241m=\u001b[39m np\u001b[38;5;241m.\u001b[39msum(\u001b[43mfunction\u001b[49m\u001b[43m(\u001b[49m\u001b[43mpoints\u001b[49m\u001b[43m)\u001b[49m, axis\u001b[38;5;241m=\u001b[39m\u001b[38;5;241m0\u001b[39m)\n\u001b[0;32m   1246\u001b[0m \u001b[38;5;28;01mreturn\u001b[39;00m s\n",
      "File \u001b[1;32mc:\\Users\\loren\\OneDrive\\Desktop\\Ferrara\\es_py\\virtualenv\\Lib\\site-packages\\scipy\\integrate\\_quadrature.py:312\u001b[0m, in \u001b[0;36mvectorize1.<locals>.vfunc\u001b[1;34m(x)\u001b[0m\n\u001b[0;32m    310\u001b[0m output[\u001b[38;5;241m0\u001b[39m] \u001b[38;5;241m=\u001b[39m y0\n\u001b[0;32m    311\u001b[0m \u001b[38;5;28;01mfor\u001b[39;00m i \u001b[38;5;129;01min\u001b[39;00m \u001b[38;5;28mrange\u001b[39m(\u001b[38;5;241m1\u001b[39m, n):\n\u001b[1;32m--> 312\u001b[0m     output[i] \u001b[38;5;241m=\u001b[39m \u001b[43mfunc\u001b[49m\u001b[43m(\u001b[49m\u001b[43mx\u001b[49m\u001b[43m[\u001b[49m\u001b[43mi\u001b[49m\u001b[43m]\u001b[49m\u001b[43m,\u001b[49m\u001b[43m \u001b[49m\u001b[38;5;241;43m*\u001b[39;49m\u001b[43margs\u001b[49m\u001b[43m)\u001b[49m\n\u001b[0;32m    313\u001b[0m \u001b[38;5;28;01mreturn\u001b[39;00m output\n",
      "File \u001b[1;32mc:\\Users\\loren\\OneDrive\\Desktop\\Ferrara\\es_py\\funct_for_a_mu.py:256\u001b[0m, in \u001b[0;36mamu_s1_s2.<locals>.<lambda>\u001b[1;34m(s)\u001b[0m\n\u001b[0;32m    254\u001b[0m \u001b[38;5;28;01mdef\u001b[39;00m \u001b[38;5;21mamu_s1_s2\u001b[39m(method, s1, s2, s_limit_1\u001b[38;5;241m=\u001b[39m\u001b[38;5;241m40000\u001b[39m, alpha_order\u001b[38;5;241m=\u001b[39m\u001b[38;5;241m0\u001b[39m, lambda1\u001b[38;5;241m=\u001b[39m\u001b[38;5;241m0.3\u001b[39m, fixed_3\u001b[38;5;241m=\u001b[39m\u001b[38;5;28;01mFalse\u001b[39;00m, nf_low_3\u001b[38;5;241m=\u001b[39m\u001b[38;5;28;01mTrue\u001b[39;00m, a\u001b[38;5;241m=\u001b[39m\u001b[38;5;241m0.2\u001b[39m,\n\u001b[0;32m    255\u001b[0m               integral\u001b[38;5;241m=\u001b[39m\u001b[38;5;28;01mTrue\u001b[39;00m):\n\u001b[1;32m--> 256\u001b[0m     expr \u001b[38;5;241m=\u001b[39m \u001b[38;5;28;01mlambda\u001b[39;00m s: \u001b[43md_amu_s\u001b[49m\u001b[43m(\u001b[49m\u001b[43ms\u001b[49m\u001b[43m,\u001b[49m\u001b[43m  \u001b[49m\u001b[43ms_limit_1\u001b[49m\u001b[43m,\u001b[49m\u001b[43m \u001b[49m\u001b[43malpha_order\u001b[49m\u001b[43m,\u001b[49m\u001b[43m \u001b[49m\u001b[43mlambda1\u001b[49m\u001b[43m,\u001b[49m\u001b[43m \u001b[49m\u001b[43mfixed_3\u001b[49m\u001b[43m,\u001b[49m\u001b[43m \u001b[49m\u001b[43mnf_low_3\u001b[49m\u001b[43m,\u001b[49m\u001b[43m \u001b[49m\u001b[43ma\u001b[49m\u001b[43m,\u001b[49m\u001b[43m \u001b[49m\u001b[43mintegral\u001b[49m\u001b[43m)\u001b[49m\n\u001b[0;32m    257\u001b[0m     \u001b[38;5;28;01mif\u001b[39;00m method \u001b[38;5;241m==\u001b[39m \u001b[38;5;124m'\u001b[39m\u001b[38;5;124mquad\u001b[39m\u001b[38;5;124m'\u001b[39m:\n\u001b[0;32m    258\u001b[0m         int1 \u001b[38;5;241m=\u001b[39m quad(expr, s1, s2, limit\u001b[38;5;241m=\u001b[39m\u001b[38;5;241m500\u001b[39m, epsabs\u001b[38;5;241m=\u001b[39m\u001b[38;5;241m1.5e-12\u001b[39m, epsrel\u001b[38;5;241m=\u001b[39m\u001b[38;5;241m1.5e-12\u001b[39m)\n",
      "File \u001b[1;32mc:\\Users\\loren\\OneDrive\\Desktop\\Ferrara\\es_py\\funct_for_a_mu.py:247\u001b[0m, in \u001b[0;36md_amu_s\u001b[1;34m(s, s_limit_1, alpha_order, lambda1, fixed_3, nf_low_3, a, integral)\u001b[0m\n\u001b[0;32m    244\u001b[0m m_pi \u001b[38;5;241m=\u001b[39m \u001b[38;5;241m0.139\u001b[39m\n\u001b[0;32m    245\u001b[0m \u001b[38;5;28;01mif\u001b[39;00m integral:\n\u001b[0;32m    246\u001b[0m     \u001b[38;5;28;01mreturn\u001b[39;00m ((alpha\u001b[38;5;241m*\u001b[39mm_mu\u001b[38;5;241m/\u001b[39m\u001b[38;5;241m3.\u001b[39m\u001b[38;5;241m/\u001b[39mpi)\u001b[38;5;241m*\u001b[39m\u001b[38;5;241m*\u001b[39m\u001b[38;5;241m2\u001b[39m\u001b[38;5;241m*\u001b[39m\n\u001b[1;32m--> 247\u001b[0m             \u001b[43mfunct_r\u001b[49m\u001b[43m(\u001b[49m\u001b[43ms\u001b[49m\u001b[43m,\u001b[49m\u001b[43m \u001b[49m\u001b[43malpha_order\u001b[49m\u001b[43m,\u001b[49m\u001b[43m \u001b[49m\u001b[43mlambda1\u001b[49m\u001b[43m,\u001b[49m\u001b[43m \u001b[49m\u001b[43mfixed_3\u001b[49m\u001b[43m,\u001b[49m\u001b[43m \u001b[49m\u001b[43mnf_low_3\u001b[49m\u001b[43m,\u001b[49m\u001b[43m \u001b[49m\u001b[43ma\u001b[49m\u001b[43m)\u001b[49m \u001b[38;5;241m*\u001b[39m funct_hat_k(s, m_mu)\n\u001b[0;32m    248\u001b[0m             \u001b[38;5;241m/\u001b[39ms\u001b[38;5;241m*\u001b[39m\u001b[38;5;241m*\u001b[39m\u001b[38;5;241m2\u001b[39m)\n\u001b[0;32m    249\u001b[0m \u001b[38;5;28;01melse\u001b[39;00m:\n\u001b[0;32m    250\u001b[0m     \u001b[38;5;28;01mreturn\u001b[39;00m ((alpha\u001b[38;5;241m*\u001b[39mm_mu\u001b[38;5;241m/\u001b[39m\u001b[38;5;241m3.\u001b[39m\u001b[38;5;241m/\u001b[39mpi)\u001b[38;5;241m*\u001b[39m\u001b[38;5;241m*\u001b[39m\u001b[38;5;241m2\u001b[39m\u001b[38;5;241m*\u001b[39m\n\u001b[0;32m    251\u001b[0m             funct_r(s, alpha_order, lambda1, fixed_3, nf_low_3, a)\u001b[38;5;241m*\u001b[39mfunct_hat_k_analyt(s, s_limit_1, m_mu, m_pi)\n\u001b[0;32m    252\u001b[0m             \u001b[38;5;241m/\u001b[39ms\u001b[38;5;241m*\u001b[39m\u001b[38;5;241m*\u001b[39m\u001b[38;5;241m2\u001b[39m)\n",
      "File \u001b[1;32mc:\\Users\\loren\\OneDrive\\Desktop\\Ferrara\\es_py\\funct_for_a_mu.py:221\u001b[0m, in \u001b[0;36mfunct_r\u001b[1;34m(s, alpha_order, lambda1, fixed_3, nf_low_3, a)\u001b[0m\n\u001b[0;32m    213\u001b[0m     \u001b[38;5;28;01mreturn\u001b[39;00m (funct_r_f(m_u, q_u, s, alpha_order, lambda1, fixed_3, nf_low_3, a) \u001b[38;5;241m+\u001b[39m\n\u001b[0;32m    214\u001b[0m             funct_r_f(m_d, q_d, s, alpha_order, lambda1, fixed_3, nf_low_3, a) \u001b[38;5;241m+\u001b[39m\n\u001b[0;32m    215\u001b[0m             funct_r_f(m_s, q_s, s, alpha_order, lambda1, fixed_3, nf_low_3, a) \u001b[38;5;241m+\u001b[39m\n\u001b[0;32m    216\u001b[0m             funct_r_f(m_c, q_c, s, alpha_order, lambda1, fixed_3, nf_low_3, a) \u001b[38;5;241m+\u001b[39m\n\u001b[0;32m    217\u001b[0m             funct_r_f(m_b, q_b, s, alpha_order, lambda1, fixed_3, nf_low_3, a))\n\u001b[0;32m    219\u001b[0m \u001b[38;5;28;01mif\u001b[39;00m s \u001b[38;5;241m>\u001b[39m\u001b[38;5;241m=\u001b[39m \u001b[38;5;241m4.\u001b[39m\u001b[38;5;241m*\u001b[39mm_t\u001b[38;5;241m*\u001b[39m\u001b[38;5;241m*\u001b[39m\u001b[38;5;241m2\u001b[39m:\n\u001b[0;32m    220\u001b[0m     \u001b[38;5;28;01mreturn\u001b[39;00m (funct_r_f(m_u, q_u, s, alpha_order, lambda1, fixed_3, nf_low_3, a) \u001b[38;5;241m+\u001b[39m\n\u001b[1;32m--> 221\u001b[0m             \u001b[43mfunct_r_f\u001b[49m\u001b[43m(\u001b[49m\u001b[43mm_d\u001b[49m\u001b[43m,\u001b[49m\u001b[43m \u001b[49m\u001b[43mq_d\u001b[49m\u001b[43m,\u001b[49m\u001b[43m \u001b[49m\u001b[43ms\u001b[49m\u001b[43m,\u001b[49m\u001b[43m \u001b[49m\u001b[43malpha_order\u001b[49m\u001b[43m,\u001b[49m\u001b[43m \u001b[49m\u001b[43mlambda1\u001b[49m\u001b[43m,\u001b[49m\u001b[43m \u001b[49m\u001b[43mfixed_3\u001b[49m\u001b[43m,\u001b[49m\u001b[43m \u001b[49m\u001b[43mnf_low_3\u001b[49m\u001b[43m,\u001b[49m\u001b[43m \u001b[49m\u001b[43ma\u001b[49m\u001b[43m)\u001b[49m \u001b[38;5;241m+\u001b[39m\n\u001b[0;32m    222\u001b[0m             funct_r_f(m_s, q_s, s, alpha_order, lambda1, fixed_3, nf_low_3, a) \u001b[38;5;241m+\u001b[39m\n\u001b[0;32m    223\u001b[0m             funct_r_f(m_c, q_c, s, alpha_order, lambda1, fixed_3, nf_low_3, a) \u001b[38;5;241m+\u001b[39m\n\u001b[0;32m    224\u001b[0m             funct_r_f(m_b, q_b, s, alpha_order, lambda1, fixed_3, nf_low_3, a) \u001b[38;5;241m+\u001b[39m\n\u001b[0;32m    225\u001b[0m             funct_r_f(m_t, q_t, s, alpha_order, lambda1, fixed_3, nf_low_3, a))\n",
      "File \u001b[1;32mc:\\Users\\loren\\OneDrive\\Desktop\\Ferrara\\es_py\\funct_for_a_mu.py:177\u001b[0m, in \u001b[0;36mfunct_r_f\u001b[1;34m(m_f, q_f, s, alpha_order, lambda1, fixed_3, nf_low_3, a)\u001b[0m\n\u001b[0;32m    174\u001b[0m \u001b[38;5;28;01mdef\u001b[39;00m \u001b[38;5;21mfunct_r_f\u001b[39m(m_f, q_f, s, alpha_order\u001b[38;5;241m=\u001b[39m\u001b[38;5;241m0\u001b[39m, lambda1\u001b[38;5;241m=\u001b[39m\u001b[38;5;241m0.3\u001b[39m,fixed_3\u001b[38;5;241m=\u001b[39m\u001b[38;5;28;01mFalse\u001b[39;00m, nf_low_3\u001b[38;5;241m=\u001b[39m\u001b[38;5;28;01mTrue\u001b[39;00m, a\u001b[38;5;241m=\u001b[39m\u001b[38;5;241m0.2\u001b[39m):\n\u001b[0;32m    175\u001b[0m     \u001b[38;5;28;01mreturn\u001b[39;00m \u001b[38;5;241m3.\u001b[39m\u001b[38;5;241m*\u001b[39mq_f\u001b[38;5;241m*\u001b[39m\u001b[38;5;241m*\u001b[39m\u001b[38;5;241m2\u001b[39m\u001b[38;5;241m*\u001b[39mfunct_t(m_f, s)\u001b[38;5;241m*\u001b[39m(funct_s(m_f, s, a) \u001b[38;5;241m+\u001b[39m\n\u001b[0;32m    176\u001b[0m                              funct_alpha(s, alpha_order, lambda1, fixed_3, nf_low_3) \u001b[38;5;241m*\u001b[39m funct_g(m_f, s) \u001b[38;5;241m-\u001b[39m\n\u001b[1;32m--> 177\u001b[0m                              \u001b[43mfunct_x\u001b[49m\u001b[43m(\u001b[49m\u001b[43mm_f\u001b[49m\u001b[43m,\u001b[49m\u001b[43m \u001b[49m\u001b[43ms\u001b[49m\u001b[43m,\u001b[49m\u001b[43m \u001b[49m\u001b[43ma\u001b[49m\u001b[43m)\u001b[49m\u001b[38;5;241m/\u001b[39m\u001b[38;5;241m2.\u001b[39m )\n",
      "File \u001b[1;32mc:\\Users\\loren\\OneDrive\\Desktop\\Ferrara\\es_py\\funct_for_a_mu.py:106\u001b[0m, in \u001b[0;36mfunct_x\u001b[1;34m(m_f, s, a)\u001b[0m\n\u001b[0;32m    104\u001b[0m \u001b[38;5;28;01mdef\u001b[39;00m \u001b[38;5;21mfunct_x\u001b[39m(m_f, s, a\u001b[38;5;241m=\u001b[39m\u001b[38;5;241m0.2\u001b[39m):\n\u001b[0;32m    105\u001b[0m     \u001b[38;5;28;01mif\u001b[39;00m s \u001b[38;5;241m>\u001b[39m \u001b[38;5;241m4.\u001b[39m\u001b[38;5;241m*\u001b[39mm_f\u001b[38;5;241m*\u001b[39m\u001b[38;5;241m*\u001b[39m\u001b[38;5;241m2\u001b[39m:\n\u001b[1;32m--> 106\u001b[0m         \u001b[38;5;28;01mreturn\u001b[39;00m pi\u001b[38;5;241m*\u001b[39ma\u001b[38;5;241m/\u001b[39m\u001b[43msinh\u001b[49m\u001b[43m(\u001b[49m\u001b[43mfunct_chi\u001b[49m\u001b[43m(\u001b[49m\u001b[43mm_f\u001b[49m\u001b[43m,\u001b[49m\u001b[43m \u001b[49m\u001b[43ms\u001b[49m\u001b[43m)\u001b[49m\u001b[43m)\u001b[49m\n\u001b[0;32m    107\u001b[0m     \u001b[38;5;28;01melse\u001b[39;00m:\n\u001b[0;32m    108\u001b[0m         \u001b[38;5;28;01mreturn\u001b[39;00m \u001b[38;5;241m0\u001b[39m\n",
      "\u001b[1;31mKeyboardInterrupt\u001b[0m: "
     ]
    }
   ],
   "source": [
    "print('***')\n",
    "print(amu_s1_s2('romberg', 50., 1e4))\n",
    "print(amu_s1_s2('romberg', 50., 1e5))\n",
    "#print(amu_s1_s2('romberg', 50., 1e7)) #Problem\n",
    "#print(amu_s1_s2('romberg', 50., 1e10))"
   ]
  },
  {
   "cell_type": "code",
   "execution_count": 21,
   "id": "c43ba472",
   "metadata": {},
   "outputs": [
    {
     "name": "stdout",
     "output_type": "stream",
     "text": [
      "(7.529810372743593e-10, 1.414576590322439e-12)\n"
     ]
    }
   ],
   "source": [
    "print(amu_high_energy_estimation('quad', 0.02)) # corresponds to integration over s upto s_max = inf\n",
    "#print(amu_high_energy_estimation('quad', 0.02, t_min=1e-5))  # t_min = 1./s_max\n",
    "#print(amu_high_energy_estimation('quad', 0.02, t_min=1e-8))\n",
    "#print(amu_high_energy_estimation('quad', 0.02, t_min=1e-12))"
   ]
  },
  {
   "cell_type": "code",
   "execution_count": 26,
   "id": "03608705",
   "metadata": {},
   "outputs": [
    {
     "data": {
      "text/plain": [
       "7.4222399999999995"
      ]
     },
     "execution_count": 26,
     "metadata": {},
     "output_type": "execute_result"
    }
   ],
   "source": [
    "7.52*0.987"
   ]
  },
  {
   "cell_type": "code",
   "execution_count": 22,
   "id": "0b713c67",
   "metadata": {},
   "outputs": [
    {
     "name": "stdout",
     "output_type": "stream",
     "text": [
      "7.483447666647943e-10\n",
      "7.523269428621239e-10\n",
      "7.526070447325614e-10\n",
      "7.525881098374771e-10\n"
     ]
    }
   ],
   "source": [
    "print(amu_high_energy_estimation('romberg', 0.02, t_min=1e-4))\n",
    "print(amu_high_energy_estimation('romberg', 0.02, t_min=1e-5))\n",
    "print(amu_high_energy_estimation('romberg', 0.02, t_min=1e-7))\n",
    "print(amu_high_energy_estimation('romberg', 0.02, t_min=1e-17))"
   ]
  },
  {
   "cell_type": "code",
   "execution_count": 23,
   "id": "295b9414",
   "metadata": {},
   "outputs": [
    {
     "name": "stdout",
     "output_type": "stream",
     "text": [
      "***\n",
      "5.364464676035277e-09\n",
      "(5.3659293958080006e-09, 1.2697586673190828e-12)\n",
      "***\n",
      "2.9723735474462955e-08\n",
      "(2.9723725238533888e-08, 7.297840828289897e-13)\n",
      "***\n",
      "(9.404071273218289e-08, 1.413321102794721e-12)\n",
      "9.404068536428193e-08\n"
     ]
    }
   ],
   "source": [
    "# Quad/Romberg for 5-50 GeV2: lambda= 0.3\n",
    "print('***')\n",
    "print(amu_s1_s2('romberg', 5., 50.))\n",
    "print(amu_s1_s2('quad', 5., 50))\n",
    "# Quad/Romberg for 1-5 GeV2:\n",
    "print('***')\n",
    "print(amu_s1_s2('romberg', 1., 5.))\n",
    "print(amu_s1_s2('quad', 1., 5.))\n",
    "# Quad/Romberg for 0-1 GeV2:\n",
    "print('***')\n",
    "print(amu_s1_s2('quad', 0., 1.))\n",
    "print(amu_s1_s2('romberg', 0.1, 1.))"
   ]
  },
  {
   "cell_type": "code",
   "execution_count": 24,
   "id": "61989f4e",
   "metadata": {},
   "outputs": [
    {
     "name": "stdout",
     "output_type": "stream",
     "text": [
      "***\n",
      "5.435267376997745e-09\n",
      "(5.436751149667679e-09, 1.287338211008625e-12)\n",
      "***\n",
      "3.01025637188373e-08\n",
      "(3.010255334751489e-08, 7.385000147866068e-13)\n",
      "***\n",
      "(9.516294884789875e-08, 1.4299113471685986e-12)\n",
      "9.51629210106972e-08\n"
     ]
    }
   ],
   "source": [
    "# Quad/Romberg for 5-50 GeV2: lambda= 0.3\n",
    "print('***')\n",
    "print(amu_s1_s2('romberg', 5., 50., integral=False))\n",
    "print(amu_s1_s2('quad', 5., 50, integral=False))\n",
    "# Quad/Romberg for 1-5 GeV2:\n",
    "print('***')\n",
    "print(amu_s1_s2('romberg', 1., 5., integral=False))\n",
    "print(amu_s1_s2('quad', 1., 5., integral=False))\n",
    "# Quad/Romberg for 0-1 GeV2:\n",
    "print('***')\n",
    "print(amu_s1_s2('quad', 0., 1., integral=False))\n",
    "print(amu_s1_s2('romberg', 0.1, 1., integral=False))"
   ]
  },
  {
   "cell_type": "code",
   "execution_count": null,
   "id": "4697341f",
   "metadata": {},
   "outputs": [],
   "source": []
  }
 ],
 "metadata": {
  "kernelspec": {
   "display_name": "Python 3",
   "language": "python",
   "name": "python3"
  },
  "language_info": {
   "codemirror_mode": {
    "name": "ipython",
    "version": 3
   },
   "file_extension": ".py",
   "mimetype": "text/x-python",
   "name": "python",
   "nbconvert_exporter": "python",
   "pygments_lexer": "ipython3",
   "version": "3.12.2"
  }
 },
 "nbformat": 4,
 "nbformat_minor": 5
}
