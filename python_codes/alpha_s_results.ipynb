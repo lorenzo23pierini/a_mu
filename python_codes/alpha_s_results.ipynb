{
 "cells": [
  {
   "cell_type": "code",
   "execution_count": 1,
   "id": "5115abd4",
   "metadata": {},
   "outputs": [],
   "source": [
    "from suppl_functions import *\n",
    "import csv\n",
    "import matplotlib.pyplot as plt\n",
    "import copy\n",
    "#import numpy as np\n",
    "m_z = 91.19"
   ]
  },
  {
   "cell_type": "code",
   "execution_count": 2,
   "id": "516e18d8",
   "metadata": {},
   "outputs": [
    {
     "name": "stdout",
     "output_type": "stream",
     "text": [
      "{'0.2': {'0.5': 0.10905148745769248, '0.6': 0.11081040823785127, '0.7': 0.11204823722994939, '0.8': 0.11296538041917199, '0.9': 0.11367079773681175}, '0.3': {'0.5': 0.11561086520421926, '0.6': 0.11760828975947425, '0.7': 0.1190106901597756, '0.8': 0.1200486756290186, '0.9': 0.12084680470411341}, '0.4': {'0.5': 0.12076959727604661, '0.6': 0.1229704221638395, '0.7': 0.12451230635827568, '0.8': 0.1256522473315718, '0.9': 0.12652835398781656}, '0.5': {'0.5': 0.1251048571898752, '0.6': 0.127488221258595, '0.7': 0.1291548081266662, '0.8': 0.13038552282945015, '0.9': 0.13133085412245485}}\n",
      "0.2\n",
      "0.3\n",
      "0.4\n",
      "0.5\n"
     ]
    }
   ],
   "source": [
    "# CMS: https://arxiv.org/pdf/1912.04387.pdf\n",
    "#    alpha_s(m_z) = 0.1175+0.0025−0.0028\n",
    "# funct_alpha_disp(s, lambda1, n, p, min_limit=0, max_limit=inf)\n",
    "#print(funct_alpha_disp(m_z**2, 0.3, 5, 0.793, min_limit=1e-10, max_limit=inf))\n",
    "\n",
    "alpha_s_m_z = dict()\n",
    "#alpha_s_m_z_lambda1 = dict()\n",
    "\n",
    "for lambda1 in [0.2, 0.3, 0.4, 0.5]:\n",
    "    alpha_s_m_z_lambda1 = dict()\n",
    "    for p in [0.5, 0.6, 0.7, 0.8, 0.9]:\n",
    "        #for p in [0.5, 0.6, 0.7, 0.8, 0.9]:\n",
    "        #for lambda1 in [0.2, 0.3, 0.4, 0.5]:\n",
    "        alpha_s_m_z_lambda1[str(p)] = funct_alpha_disp(m_z**2, lambda1, 5, p, min_limit=0, max_limit=inf)\n",
    "    alpha_s_m_z[str(lambda1)] = copy.deepcopy(alpha_s_m_z_lambda1)#alpha_s_m_z_lambda1.copy()\n",
    "    \n",
    "    \n",
    "print(alpha_s_m_z)    \n",
    "        \n",
    "#print(f'p={p} lambda1={lambda1}  alpha_s={funct_alpha_disp(m_z**2, lambda1, 5, p, min_limit=0, max_limit=inf)}')\n",
    "\n",
    "header = ['Lambda \\ p', '0.5', '0.6', '0.7', '0.8', '0.9']\n",
    "with open('alpha_s.csv', 'w', newline='') as file:\n",
    "    writer = csv.writer(file)\n",
    "    writer.writerow(header)\n",
    "    for lambda1 in alpha_s_m_z.keys():\n",
    "        print(lambda1)\n",
    "        writer.writerow([lambda1, alpha_s_m_z[str(lambda1)]['0.5'], alpha_s_m_z[str(lambda1)]['0.6'], \n",
    "                         alpha_s_m_z[str(lambda1)]['0.7'], alpha_s_m_z[str(lambda1)]['0.8'], \n",
    "                         alpha_s_m_z[str(lambda1)]['0.9']])\n",
    "\n",
    "    "
   ]
  },
  {
   "cell_type": "code",
   "execution_count": null,
   "id": "cb75eb0d",
   "metadata": {},
   "outputs": [],
   "source": [
    "print(alpha_s_m_z[str(0.2)]['0.5'])\n",
    "print(list(alpha_s_m_z.keys()))\n",
    "# So, Lambda1 ~= 100 MeV is preferable"
   ]
  },
  {
   "cell_type": "code",
   "execution_count": null,
   "id": "71ddf209",
   "metadata": {},
   "outputs": [],
   "source": [
    "m_tau = 1.777\n",
    "# https://arxiv.org/pdf/1001.0389.pdf \n",
    "# α_s(m_tau^2) = 0.342 ± 0.012\n",
    "# funct_alpha_disp(s, lambda1, n, p, min_limit=0, max_limit=inf)\n",
    "#print(funct_alpha_disp(m_tau**2, 0.3, 5, 0.793, min_limit=1e-10, max_limit=inf))\n",
    "\n",
    "for p in [0.5, 0.6, 0.7, 0.8, 0.9]:\n",
    "    for lambda1 in [0.2, 0.3, 0.4, 0.5]:\n",
    "        print(f'p={p} lambda1={lambda1}  alpha_s={funct_alpha_disp(m_tau**2, lambda1, 5, p, min_limit=0, max_limit=inf)}')"
   ]
  },
  {
   "cell_type": "code",
   "execution_count": null,
   "id": "5a1b7a70",
   "metadata": {},
   "outputs": [],
   "source": []
  },
  {
   "cell_type": "code",
   "execution_count": null,
   "id": "1ccd73ff",
   "metadata": {},
   "outputs": [],
   "source": []
  },
  {
   "cell_type": "code",
   "execution_count": null,
   "id": "662b1535",
   "metadata": {},
   "outputs": [],
   "source": []
  }
 ],
 "metadata": {
  "kernelspec": {
   "display_name": "Python 3",
   "language": "python",
   "name": "python3"
  },
  "language_info": {
   "codemirror_mode": {
    "name": "ipython",
    "version": 3
   },
   "file_extension": ".py",
   "mimetype": "text/x-python",
   "name": "python",
   "nbconvert_exporter": "python",
   "pygments_lexer": "ipython3",
   "version": "3.8.10"
  }
 },
 "nbformat": 4,
 "nbformat_minor": 5
}
