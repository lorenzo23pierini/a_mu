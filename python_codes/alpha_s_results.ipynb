{
 "cells": [
  {
   "cell_type": "code",
   "execution_count": 6,
   "id": "2f453f85",
   "metadata": {},
   "outputs": [],
   "source": [
    "from suppl_functions import *\n",
    "import csv\n",
    "import matplotlib.pyplot as plt\n",
    "import copy\n",
    "#import numpy as np\n",
    "m_z = 91.1"
   ]
  },
  {
   "cell_type": "code",
   "execution_count": 2,
   "id": "94a1a2b6",
   "metadata": {},
   "outputs": [
    {
     "name": "stdout",
     "output_type": "stream",
     "text": [
      "lambda1=0.2, p=0.5\n",
      "0-th: -0.00010933149335735737 4.468648780924043e-09\n",
      "1-th: -1.6070111879491166e-05 7.943809243017515e-09\n",
      "lambda1=0.2, p=0.6\n",
      "0-th: -0.00010886123871485988 4.468648780924043e-09\n",
      "1-th: -1.566386186708349e-05 7.943809243017515e-09\n",
      "lambda1=0.2, p=0.7\n",
      "0-th: -0.00010843937921669202 4.468648780924043e-09\n",
      "1-th: -1.5307920068083056e-05 7.943809243017515e-09\n",
      "lambda1=0.2, p=0.8\n",
      "0-th: -0.00010805816351429534 4.468648780924043e-09\n",
      "1-th: -1.4993731561045769e-05 7.943809243017515e-09\n",
      "lambda1=0.2, p=0.9\n",
      "0-th: -0.00010771146231233011 4.468648780924043e-09\n",
      "1-th: -1.4714595755363495e-05 7.943809243017515e-09\n",
      "lambda1=0.3, p=0.5\n",
      "0-th: -0.00022917520557112368 8.277859584018875e-09\n",
      "1-th: -3.522126965543972e-05 4.042512025335108e-10\n",
      "lambda1=0.3, p=0.6\n",
      "0-th: -0.0002281171357106618 8.277859584018875e-09\n",
      "1-th: -3.43072099252801e-05 4.042512025335108e-10\n",
      "lambda1=0.3, p=0.7\n",
      "0-th: -0.00022716795391861013 8.277859584018875e-09\n",
      "1-th: -3.350632808294253e-05 4.042512025335108e-10\n",
      "lambda1=0.3, p=0.8\n",
      "0-th: -0.00022631023516710592 8.277859584018875e-09\n",
      "1-th: -3.279942176775299e-05 4.042512025335108e-10\n",
      "lambda1=0.3, p=0.9\n",
      "0-th: -0.00022553016171524885 9.99774402673488e-09\n",
      "1-th: -3.217136847581593e-05 4.042512025335108e-10\n",
      "lambda1=0.4, p=0.5\n",
      "0-th: -0.00038620728218255224 4.560053036842892e-09\n",
      "1-th: -6.13636491151614e-05 5.501993072948297e-09\n",
      "lambda1=0.4, p=0.6\n",
      "0-th: -0.00038432628038876694 4.216928177588141e-09\n",
      "1-th: -5.973866013739568e-05 5.501993072745009e-09\n",
      "lambda1=0.4, p=0.7\n",
      "0-th: -0.00038263885650655386 3.814495567131961e-09\n",
      "1-th: -5.8314875380731225e-05 5.501993072765338e-09\n",
      "lambda1=0.4, p=0.8\n",
      "0-th: -0.00038111404074481713 8.10565360215975e-09\n",
      "1-th: -5.705815760812353e-05 5.501993072765338e-09\n",
      "lambda1=0.4, p=0.9\n",
      "0-th: -0.0003797272538111297 1.5409881156044296e-09\n",
      "1-th: -5.594163399374982e-05 5.501993072765338e-09\n",
      "lambda1=0.5, p=0.5\n",
      "0-th: -0.0005777388365657488 8.385627076930024e-09\n",
      "1-th: -9.429110982886681e-05 5.784320394408918e-09\n",
      "lambda1=0.5, p=0.6\n",
      "0-th: -0.0005747997953035932 7.84949564948234e-09\n",
      "1-th: -9.175207853942006e-05 5.784320394408918e-09\n",
      "lambda1=0.5, p=0.7\n",
      "0-th: -0.0005721632184007905 7.220696829178252e-09\n",
      "1-th: -8.952742787118771e-05 5.784320394408918e-09\n",
      "lambda1=0.5, p=0.8\n",
      "0-th: -0.0005697807035655151 5.999368758382861e-09\n",
      "1-th: -8.756381849182281e-05 5.784320394408918e-09\n",
      "lambda1=0.5, p=0.9\n",
      "0-th: -0.0005676138820202085 3.668347671941726e-09\n",
      "1-th: -8.581926169817933e-05 5.784320394408918e-09\n"
     ]
    }
   ],
   "source": [
    "# Integration accuracy test\n",
    "\n",
    "for lambda1 in [0.2, 0.3, 0.4, 0.5]:\n",
    "    for p in [0.5, 0.6, 0.7, 0.8, 0.9]:\n",
    "        f0 = test_funct_e0(m_z**2/lambda1**2, 5, p, min_limit=0., max_limit=inf, param='exp')\n",
    "        f1 = test_funct_e1(m_z**2/lambda1**2, 5, p, min_limit=0., max_limit=inf, param='exp')\n",
    "        print(f'lambda1={lambda1}, p={p}')\n",
    "        print('0-th:', f0[0], f0[1])\n",
    "        print('1-th:', f1[0], f1[1])\n",
    "    "
   ]
  },
  {
   "cell_type": "code",
   "execution_count": 7,
   "id": "a29ded19",
   "metadata": {},
   "outputs": [
    {
     "name": "stdout",
     "output_type": "stream",
     "text": [
      "{'0.2': {'0.5': 0.09358437508694782, '0.6': 0.09791238078811645, '0.7': 0.10130319138194802, '0.8': 0.10404338655250517, '0.9': 0.1063119894225378}, '0.3': {'0.5': 0.09839372692617385, '0.6': 0.10318939209043296, '0.7': 0.10696259160660374, '0.8': 0.1100221140109971, '0.9': 0.11256210998161309}, '0.4': {'0.5': 0.1021293657461474, '0.6': 0.10730565976821822, '0.7': 0.11139184398105137, '0.8': 0.11471392332585585, '0.9': 0.11747788112223455}, '0.5': {'0.5': 0.10523672413353712, '0.6': 0.11074127065855956, '0.7': 0.11509859877653827, '0.8': 0.11864896575042691, '0.9': 0.12160823278220433}}\n"
     ]
    }
   ],
   "source": [
    "# CMS: https://arxiv.org/pdf/1912.04387.pdf\n",
    "#    alpha_s(m_z) = 0.1175+0.0025−0.0028\n",
    "# funct_alpha_disp(s, lambda1, n, p, min_limit=0, max_limit=inf)\n",
    "\n",
    "alpha_s_m_z = dict()\n",
    "\n",
    "for lambda1 in [0.2, 0.3, 0.4, 0.5]:\n",
    "    alpha_s_m_z_lambda1 = dict()\n",
    "    for p in [0.5, 0.6, 0.7, 0.8, 0.9]:        \n",
    "        alpha_s_m_z_lambda1[str(p)] = funct_alpha_disp(m_z**2, lambda1, 5, p, min_limit=0., max_limit=inf, param='exp')\n",
    "    alpha_s_m_z[str(lambda1)] = copy.deepcopy(alpha_s_m_z_lambda1)#alpha_s_m_z_lambda1.copy()\n",
    "    \n",
    "    \n",
    "print(alpha_s_m_z)    \n",
    "        \n",
    "header = ['Lambda \\ p', '0.5', '0.6', '0.7', '0.8', '0.9']\n",
    "with open('alpha_s_exp_911.csv', 'w', newline='') as file:\n",
    "    writer = csv.writer(file)\n",
    "    writer.writerow(header)\n",
    "    for lambda1 in alpha_s_m_z.keys():\n",
    "        writer.writerow([lambda1, alpha_s_m_z[str(lambda1)]['0.5'], alpha_s_m_z[str(lambda1)]['0.6'], \n",
    "                         alpha_s_m_z[str(lambda1)]['0.7'], alpha_s_m_z[str(lambda1)]['0.8'], \n",
    "                         alpha_s_m_z[str(lambda1)]['0.9']])"
   ]
  },
  {
   "cell_type": "code",
   "execution_count": null,
   "id": "7fd2deba",
   "metadata": {},
   "outputs": [],
   "source": [
    "print(alpha_s_m_z[str(0.2)]['0.5'])\n",
    "print(list(alpha_s_m_z.keys()))\n",
    "# So, Lambda1 ~= 100 MeV is preferable"
   ]
  },
  {
   "cell_type": "code",
   "execution_count": null,
   "id": "15c5a42e",
   "metadata": {},
   "outputs": [],
   "source": [
    "m_tau = 1.777\n",
    "# https://arxiv.org/pdf/1001.0389.pdf \n",
    "# α_s(m_tau^2) = 0.342 ± 0.012\n",
    "# funct_alpha_disp(s, lambda1, n, p, min_limit=0, max_limit=inf)\n",
    "#print(funct_alpha_disp(m_tau**2, 0.3, 5, 0.793, min_limit=1e-10, max_limit=inf))\n",
    "\n",
    "for p in [0.5, 0.6, 0.7, 0.8, 0.9]:\n",
    "    for lambda1 in [0.2, 0.3, 0.4, 0.5]:\n",
    "        print(f'p={p} lambda1={lambda1}  alpha_s={funct_alpha_disp(m_tau**2, lambda1, 5, p, min_limit=0, max_limit=inf)}')"
   ]
  },
  {
   "cell_type": "code",
   "execution_count": null,
   "id": "0c96d58d",
   "metadata": {},
   "outputs": [],
   "source": []
  },
  {
   "cell_type": "code",
   "execution_count": null,
   "id": "9faf4679",
   "metadata": {},
   "outputs": [],
   "source": []
  },
  {
   "cell_type": "code",
   "execution_count": null,
   "id": "79da4f00",
   "metadata": {},
   "outputs": [],
   "source": []
  }
 ],
 "metadata": {
  "kernelspec": {
   "display_name": "Python 3",
   "language": "python",
   "name": "python3"
  },
  "language_info": {
   "codemirror_mode": {
    "name": "ipython",
    "version": 3
   },
   "file_extension": ".py",
   "mimetype": "text/x-python",
   "name": "python",
   "nbconvert_exporter": "python",
   "pygments_lexer": "ipython3",
   "version": "3.8.10"
  }
 },
 "nbformat": 4,
 "nbformat_minor": 5
}
