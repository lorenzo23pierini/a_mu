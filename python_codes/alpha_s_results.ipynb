{
 "cells": [
  {
   "cell_type": "code",
   "execution_count": null,
   "id": "1b0685e8",
   "metadata": {},
   "outputs": [],
   "source": [
    "from suppl_funct import *\n",
    "#import csv\n",
    "import matplotlib.pyplot as plt\n",
    "#import numpy as np"
   ]
  },
  {
   "cell_type": "code",
   "execution_count": null,
   "id": "c9d5c5b8",
   "metadata": {},
   "outputs": [],
   "source": [
    "m_z = 91.19\n",
    "# CMS: https://arxiv.org/pdf/1912.04387.pdf\n",
    "#    alpha_s(m_z) = 0.1175+0.0025−0.0028\n",
    "# funct_alpha_disp(s, lambda1, n, p, min_limit=0, max_limit=inf)\n",
    "#print(funct_alpha_disp(m_z**2, 0.3, 5, 0.793, min_limit=1e-10, max_limit=inf))\n",
    "\n",
    "for lambda1 in [0.2, 0.25, 0.3, 0.35, 0.4, 0.45, 0.5]:\n",
    "    print(lambda1, ': ', funct_alpha_disp(m_z**2, lambda1, 5, 0.8, min_limit=0, max_limit=inf))"
   ]
  },
  {
   "cell_type": "code",
   "execution_count": null,
   "id": "81e215db",
   "metadata": {
    "scrolled": true
   },
   "outputs": [],
   "source": [
    "for lambda1 in [0.2, 0.25, 0.3, 0.35, 0.4, 0.45, 0.5]:\n",
    "    print(lambda1, ': ', funct_alpha_disp(m_z**2, lambda1, 5, 0.5, min_limit=0, max_limit=inf))"
   ]
  },
  {
   "cell_type": "code",
   "execution_count": null,
   "id": "a31d22aa",
   "metadata": {},
   "outputs": [],
   "source": [
    "# So, Lambda1 ~= 100 MeV is preferable"
   ]
  },
  {
   "cell_type": "code",
   "execution_count": null,
   "id": "6f925008",
   "metadata": {},
   "outputs": [],
   "source": [
    "m_tau = 1.777\n",
    "# https://arxiv.org/pdf/1001.0389.pdf \n",
    "# α_s(m_tau^2) = 0.342 ± 0.012\n",
    "# funct_alpha_disp(s, lambda1, n, p, min_limit=0, max_limit=inf)\n",
    "#print(funct_alpha_disp(m_tau**2, 0.3, 5, 0.793, min_limit=1e-10, max_limit=inf))\n",
    "\n",
    "for lambda1 in [0.05, 0.09, 0.1, 0.15, 0.2, 0.25, 0.3, 0.35, 0.4, 0.45, 0.5]:\n",
    "    print(lambda1, ': ', funct_alpha_disp(m_tau**2, lambda1, 5, 0.793, min_limit=1e-10, max_limit=inf))"
   ]
  },
  {
   "cell_type": "code",
   "execution_count": null,
   "id": "744b8829",
   "metadata": {},
   "outputs": [],
   "source": []
  },
  {
   "cell_type": "code",
   "execution_count": null,
   "id": "78b4acf3",
   "metadata": {},
   "outputs": [],
   "source": []
  },
  {
   "cell_type": "code",
   "execution_count": null,
   "id": "421831f6",
   "metadata": {},
   "outputs": [],
   "source": []
  }
 ],
 "metadata": {
  "kernelspec": {
   "display_name": "Python 3",
   "language": "python",
   "name": "python3"
  },
  "language_info": {
   "codemirror_mode": {
    "name": "ipython",
    "version": 3
   },
   "file_extension": ".py",
   "mimetype": "text/x-python",
   "name": "python",
   "nbconvert_exporter": "python",
   "pygments_lexer": "ipython3",
   "version": "3.8.10"
  }
 },
 "nbformat": 4,
 "nbformat_minor": 5
}
